{
 "cells": [
  {
   "cell_type": "code",
   "execution_count": 1,
   "metadata": {},
   "outputs": [],
   "source": [
    "from selenium import webdriver\n",
    "from selenium.webdriver.chrome.options import Options\n",
    "from selenium.webdriver.common.by import By\n",
    "from selenium.webdriver.support.ui import WebDriverWait\n",
    "from selenium.webdriver.support import expected_conditions as EC\n",
    "from selenium.common.exceptions import TimeoutException, WebDriverException\n",
    "import time\n",
    "from parsel import Selector\n",
    "import csv"
   ]
  },
  {
   "cell_type": "markdown",
   "metadata": {},
   "source": [
    "# 1 st Technique"
   ]
  },
  {
   "cell_type": "code",
   "execution_count": 11,
   "metadata": {},
   "outputs": [],
   "source": [
    "url = 'https://scholar.google.co.uk/citations?view_op=view_org&hl=en&org=9117984065169182779'\n",
    "   \n",
    "options = Options()\n",
    "options.add_argument(\"start-maximized\")\n",
    "options.add_argument(\"disable-infobars\")\n",
    "options.add_argument(\"--disable-extensions\")\n",
    "driver = webdriver.Chrome( executable_path='C:/Drivers/chromedriver.exe')\n",
    "driver.get(url)\n",
    "driver.set_page_load_timeout(5)"
   ]
  },
  {
   "cell_type": "code",
   "execution_count": 12,
   "metadata": {
    "scrolled": true
   },
   "outputs": [
    {
     "name": "stdout",
     "output_type": "stream",
     "text": [
      "paper 0 is ok\n",
      "paper 1 is ok\n",
      "paper 2 is ok\n",
      "paper 3 is ok\n",
      "paper 4 is ok\n",
      "paper 5 is ok\n",
      "paper 6 is ok\n"
     ]
    },
    {
     "ename": "KeyboardInterrupt",
     "evalue": "",
     "output_type": "error",
     "traceback": [
      "\u001b[1;31m---------------------------------------------------------------------------\u001b[0m",
      "\u001b[1;31mKeyboardInterrupt\u001b[0m                         Traceback (most recent call last)",
      "\u001b[1;32m<ipython-input-12-d45f208199bc>\u001b[0m in \u001b[0;36m<module>\u001b[1;34m\u001b[0m\n\u001b[0;32m     42\u001b[0m                 \u001b[1;31m# Get paper title\u001b[0m\u001b[1;33m\u001b[0m\u001b[1;33m\u001b[0m\u001b[1;33m\u001b[0m\u001b[0m\n\u001b[0;32m     43\u001b[0m                 \u001b[0mxPath_paper_title\u001b[0m \u001b[1;33m=\u001b[0m \u001b[1;34m'//*[@id=\"gsc_vcd_title\"]'\u001b[0m\u001b[1;33m\u001b[0m\u001b[1;33m\u001b[0m\u001b[0m\n\u001b[1;32m---> 44\u001b[1;33m                 \u001b[0mtime\u001b[0m\u001b[1;33m.\u001b[0m\u001b[0msleep\u001b[0m\u001b[1;33m(\u001b[0m\u001b[1;36m1\u001b[0m\u001b[1;33m)\u001b[0m\u001b[1;33m\u001b[0m\u001b[1;33m\u001b[0m\u001b[0m\n\u001b[0m\u001b[0;32m     45\u001b[0m                 \u001b[0mpaper_titles\u001b[0m \u001b[1;33m=\u001b[0m \u001b[0mdriver\u001b[0m\u001b[1;33m.\u001b[0m\u001b[0mfind_element_by_xpath\u001b[0m\u001b[1;33m(\u001b[0m\u001b[0mxPath_paper_title\u001b[0m\u001b[1;33m)\u001b[0m\u001b[1;33m\u001b[0m\u001b[1;33m\u001b[0m\u001b[0m\n\u001b[0;32m     46\u001b[0m                 \u001b[0mtitles\u001b[0m\u001b[1;33m.\u001b[0m\u001b[0mappend\u001b[0m\u001b[1;33m(\u001b[0m\u001b[0mpaper_titles\u001b[0m\u001b[1;33m.\u001b[0m\u001b[0mtext\u001b[0m\u001b[1;33m)\u001b[0m\u001b[1;33m\u001b[0m\u001b[1;33m\u001b[0m\u001b[0m\n",
      "\u001b[1;31mKeyboardInterrupt\u001b[0m: "
     ]
    }
   ],
   "source": [
    "paper_descriptions = []\n",
    "authors = []\n",
    "titles = []\n",
    "pubdate = []\n",
    "\n",
    "paper_count = 1\n",
    "continuer = 0\n",
    "\n",
    "breakers = ''\n",
    "breaker = ''\n",
    "while True:\n",
    "    try:\n",
    "        num_of_auth = driver.find_elements_by_xpath('//*[@id=\"gsc_sa_ccl\"]/div/div/div/h3/a')                      \n",
    "        for i in range(0, len(num_of_auth)):\n",
    "\n",
    "            # Enter profiles\n",
    "            xPathname = '//*[@id=\"gsc_sa_ccl\"]/div/div/div/h3/a'\n",
    "            names = driver.find_elements_by_xpath(xPathname)[i]\n",
    "            names.click()\n",
    "            breakers=''\n",
    "            while True:\n",
    "                time.sleep(1)\n",
    "                if driver.find_element_by_xpath('//*[@id=\"gsc_a_nn\"]').text != breakers:\n",
    "                    breakers = driver.find_element_by_xpath('//*[@id=\"gsc_a_nn\"]').text\n",
    "                    driver.find_element_by_xpath('//*[@id=\"gsc_bpf_more\"]/span/span[2]').click()\n",
    "                else:\n",
    "                    break\n",
    "         \n",
    "            x = driver.find_elements_by_xpath('//*[@id=\"gsc_a_b\"]/tr/td[1]/a')\n",
    "\n",
    "            time.sleep(1)\n",
    "            \n",
    "            # Getting info from each paper loop\n",
    "            for i in range(0, len(x)):\n",
    "    \n",
    "                # Click papers  \n",
    "                xPath_paper_click = '//*[@id=\"gsc_a_b\"]/tr/td[1]/a'\n",
    "                papers = driver.find_elements_by_xpath(xPath_paper_click)[i]\n",
    "                time.sleep(1)\n",
    "                papers.click()\n",
    "                \n",
    "                # Get paper title\n",
    "                xPath_paper_title = '//*[@id=\"gsc_vcd_title\"]'\n",
    "                time.sleep(1)\n",
    "                paper_titles = driver.find_element_by_xpath(xPath_paper_title)\n",
    "                titles.append(paper_titles.text)\n",
    "                \n",
    "                body = driver.find_element_by_xpath('//*[@id=\"gsc_vcd_table\"]')\n",
    "                \n",
    "                #Get authors\n",
    "                if 'Authors' in body.text:\n",
    "                    time.sleep(0.5)\n",
    "                    author = driver.find_element_by_class_name('gsc_vcd_value')\n",
    "                    authors.append(author.text)\n",
    "                else:\n",
    "                    author = 'N/A'\n",
    "                    authors.append(author)\n",
    "\n",
    "                # Get date\n",
    "                if 'date'in body.text:\n",
    "                    time.sleep(0.5)\n",
    "                    date = driver.find_element_by_xpath('//*[@id=\"gsc_vcd_table\"]/div[2]/div[2]')\n",
    "                    pubdate.append(date.text)\n",
    "                else:\n",
    "                    date ='N/A'\n",
    "                    pubdate.append(date)\n",
    "                \n",
    "                # Get description\n",
    "\n",
    "                if 'Description' in body.text:\n",
    "                    time.sleep(0.5)\n",
    "                    xPath_description = '//*[@id=\"gsc_vcd_descr\"]'\n",
    "                    description = driver.find_element_by_xpath(xPath_description)\n",
    "                    paper_descriptions.append(description.text)\n",
    "                else:\n",
    "                    description = 'N/A'\n",
    "                    paper_descriptions.append(description)\n",
    "                print('paper ' +str(i)+' is ok')                   \n",
    "                \n",
    "                driver.back()\n",
    "                paper_count += 1\n",
    "            paper_count = 1     \n",
    "            # resetting the paper_count so it can begin again with the 1st paper after the for loop is complete\n",
    "\n",
    "            continuer = 1\n",
    "            driver.back()\n",
    "            \n",
    "            time.sleep(1)\n",
    "        next_button = driver.find_element_by_xpath('//*[@id=\"gsc_authors_bottom_pag\"]/div/button[2]')\n",
    "        next_button.click()\n",
    "\n",
    "    except Exception as e:\n",
    "        print('processed')\n",
    "        break"
   ]
  },
  {
   "cell_type": "code",
   "execution_count": 10,
   "metadata": {
    "scrolled": true
   },
   "outputs": [
    {
     "data": {
      "text/plain": [
       "[{'Paper_titles': 'Sonochemistry',\n",
       "  'Authors': 'Timothy James Mason, J Phillip Lorimer',\n",
       "  'date': 'Timothy James Mason, J Phillip Lorimer',\n",
       "  'Description': 'N/A'},\n",
       " {'Paper_titles': 'Applied sonochemistry: the uses of power ultrasound in chemistry and processing',\n",
       "  'Authors': 'Timothy J Mason, J Phillip Lorimer',\n",
       "  'date': 'Timothy J Mason, J Phillip Lorimer',\n",
       "  'Description': 'Power ultrasound has been used for many years in two specific industrial areas: cleaning and plastic welding. Over the last ten years an increasing interest has been shown in its potential for use over a much wider range of chemistry and processing which has been grouped together under the general title of sonochemistry. Most of these uses depend on the generation of acoustic cavitation in liquid media but this text, while underlining the importance of the physics and mathematics of cavitation, mainly concentrates on applications of the technology.\\nAfter an introduction to the topic and some historical background to the uses of power ultrasound the general principles of acoustic cavitation are explored including some background physics, bubble dynamics and factors which influence cavitation. The remainder of the book incorporates a series of applications of sonochemistry which illustrate the types of physical and chemical effects of ultrasonically induced cavitation which will interest chemists and engineers alike. Amongst the major topics included are chemical synthesis, environmental protection and remediation of water, sewage and soils, polymer synthesis and processing, electrochemistry including both analytical and synthetic aspects and plating. The final chapter reviews the range of ultrasonic equipment available in the laboratory and the progress made towards the scale-up of sonochemistry.'},\n",
       " {'Paper_titles': 'The uses of ultrasound in food technology',\n",
       "  'Authors': 'Timothy J Mason, Larysa Paniwnyk, JP Lorimer',\n",
       "  'date': 'Timothy J Mason, Larysa Paniwnyk, JP Lorimer',\n",
       "  'Description': 'The same physical and mechanical effects which have been utilised in sonochemistry, i.e. strong shear forces, particle fragmentation, increased mass and heat transfer, nucleation of seedling, have been applied to food processing. Examples are quoted from various applications where power ultrasound has been used to influence the development of living cells, improve sterilisation and effect enzyme activity. Typically ultrasound can be used as a processing aid in extraction, crystallisation, freezing, emulsification, filtration and drying.'},\n",
       " {'Paper_titles': 'Practical sonochemistry',\n",
       "  'Authors': 'Timothy J Mason, Dietmar Peters',\n",
       "  'date': 'Timothy J Mason, Dietmar Peters',\n",
       "  'Description': 'This updated version of Practical Sonochemistry for advanced students and teachers in chemistry and chemical engineering conveys the increasing growth in applications and equipment to power ultrasound. Equipment now on the market offers a wider range of frequencies with more reproducible experimentation and a variety of scale-up systems. The book provides detailed descriptions of newer ultrasonic equipment and its applications, and practical laboratory uses of ultrasound technology for industrial scale performance.\\nModern exercises familiarise readers with recent sonochemical operations. The book also includes methods for estimating ultrasonic energy entering the system (dosimetry), which will standardise sonochemical methodology and enable practitioners to reproduce results from other laboratories.'},\n",
       " {'Paper_titles': 'Ultrasound in synthetic organic chemistry',\n",
       "  'Authors': 'Timothy J Mason',\n",
       "  'date': 'Timothy J Mason',\n",
       "  'Description': 'High-power ultrasound can generate cavitation within a liquid and through cavitation provide a source of energy which can be used to enhance a wide range of chemical processes. Such uses of ultrasound have been grouped under the general name sonochemistry. This review will concentrate on applications in organic synthesis where ultrasound seems to provide a distinct alternative to other, more traditional, techniques of improving reaction rates and product yields. In some cases it has also provided new synthesic pathways.'},\n",
       " {'Paper_titles': 'Investigation of the effects of ultrasound on vegetal tissues during solvent extraction',\n",
       "  'Authors': 'Maricela Toma, M Vinatoru, Larysa Paniwnyk, Timothy J Mason',\n",
       "  'date': 'Maricela Toma, M Vinatoru, Larysa Paniwnyk, Timothy J Mason',\n",
       "  'Description': 'The paper presents an insight into the mechanism of the ultrasonic enhancement of solvent extraction through the effect of ultrasound on the vegetal material involved. Thus, a series of experiments has been developed to investigate the effect of ultrasonic energy on the vegetal material and the solvent used. Several results concerning the ultrasonic extractive value, ultrasonic swelling index and the effects of frequency on vegetal material are presented.'},\n",
       " {'Paper_titles': 'Microwave and ultrasonic processing: now a realistic option for industry',\n",
       "  'Authors': 'Cristina Leonelli, Timothy J Mason',\n",
       "  'date': 'Cristina Leonelli, Timothy J Mason',\n",
       "  'Description': 'Environmentally friendlier preparations of chemical compounds and organic or inorganic materials are generally accompanied by the concept of saving resources by optimizing reaction conditions and/or introducing new process technologies. The use of ionic liquids and a solvent-free approach are among these technologies, but in terms of the minimisation of energy and optimization of reaction control both microwave and ultrasound irradiation have now proved to be real options. This review starts from the basic considerations on the separate interaction of microwaves and ultrasound with matter and goes on to explore some laboratory and industrial applications of each type of activation. It is also possible to enhance the effects of high frequency electromagnetic fields, typical of microwaves, or the cavitational energy associated with sonochemistry by combining them with other extreme conditions such as plasmas …'}]"
      ]
     },
     "execution_count": 10,
     "metadata": {},
     "output_type": "execute_result"
    }
   ],
   "source": [
    "allpapers = []\n",
    "for i in range(0, len(titles)-1):\n",
    "    allpapers.append({'Paper_titles': titles[i],\n",
    "                      'Authors': authors[i],\n",
    "                      'date': pubdate[i],\n",
    "                      'Description': paper_descriptions[i]})\n",
    "    \n",
    "allpapers"
   ]
  },
  {
   "cell_type": "code",
   "execution_count": 8,
   "metadata": {},
   "outputs": [],
   "source": [
    "with open('GSCU Crawling.csv', 'w', encoding='utf8', newline='') as output_file:\n",
    "    fc = csv.DictWriter(output_file,\n",
    "                       fieldnames=allpapers[0].keys(),\n",
    "                       )\n",
    "    fc.writeheader()\n",
    "    fc.writerows(allpapers)"
   ]
  },
  {
   "cell_type": "code",
   "execution_count": null,
   "metadata": {},
   "outputs": [],
   "source": []
  }
 ],
 "metadata": {
  "kernelspec": {
   "display_name": "Python 3",
   "language": "python",
   "name": "python3"
  },
  "language_info": {
   "codemirror_mode": {
    "name": "ipython",
    "version": 3
   },
   "file_extension": ".py",
   "mimetype": "text/x-python",
   "name": "python",
   "nbconvert_exporter": "python",
   "pygments_lexer": "ipython3",
   "version": "3.8.3"
  }
 },
 "nbformat": 4,
 "nbformat_minor": 4
}
